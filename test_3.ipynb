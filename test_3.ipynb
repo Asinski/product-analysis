{
 "cells": [
  {
   "cell_type": "markdown",
   "id": "cardiovascular-blues",
   "metadata": {},
   "source": [
    "__Вводные данные:__\n",
    "\n",
    "Дана выгрузка данных пользователей в виде когортного анализа. Стоимость подписки, которую приобретали пользователи мобильного приложения, – 9,99 $.\n",
    "\n",
    "__Задача:__\n",
    "\n",
    "Необходимо рассчитать прогнозный LTV24 (сколько нам принесет пользователь на протяжении 24-х месяцев использования приложения) на основании имеющихся данных. Следует учитывать, что с покупки подписки 30 % от стоимости подписки забирает Apple в первый год, 15 % - во второй.\n"
   ]
  },
  {
   "cell_type": "code",
   "execution_count": 264,
   "id": "coordinate-proportion",
   "metadata": {},
   "outputs": [],
   "source": [
    "import pandas as pd"
   ]
  },
  {
   "cell_type": "code",
   "execution_count": 265,
   "id": "anonymous-emperor",
   "metadata": {},
   "outputs": [],
   "source": [
    "cohort = pd.read_excel('result.xlsx', sheet_name=2, usecols='B:AA', nrows=23)\n",
    "cohort.fillna(0, inplace=True)"
   ]
  },
  {
   "cell_type": "markdown",
   "id": "urban-saver",
   "metadata": {},
   "source": [
    "После вычета комиссии доход за каждую подписку составит 6.99 $ в первый год и 8.49 $ во второй."
   ]
  },
  {
   "cell_type": "code",
   "execution_count": 266,
   "id": "afraid-hanging",
   "metadata": {},
   "outputs": [],
   "source": [
    "cohort_active = cohort.copy(deep=True)\n",
    "\n",
    "# расчёт процента продления подписки\n",
    "for i in range(22):\n",
    "    for j in range(2, 26):\n",
    "        cohort_active.iloc[i, j] = cohort_active.iloc[i, j] / cohort_active.iloc[i, 1]\n",
    "cohort_active['Trial'] = 1"
   ]
  },
  {
   "cell_type": "code",
   "execution_count": 267,
   "id": "cloudy-breast",
   "metadata": {},
   "outputs": [],
   "source": [
    "# расчёт дохода относительно вовлечённости\n",
    "cohort_active.iloc[:, 1:13] = cohort_active.iloc[:, 1:13].apply(lambda pr: pr * 6.99)\n",
    "cohort_active.iloc[:, 13:25] = cohort_active.iloc[:, 13:25].apply(lambda pr: pr * 8.49)"
   ]
  },
  {
   "cell_type": "code",
   "execution_count": 268,
   "id": "reserved-magnitude",
   "metadata": {},
   "outputs": [],
   "source": [
    "# расчёт суммарного LTV\n",
    "sum_ltv = [(cohort_active.iloc[i:(i + 1), 1:26].values).sum() for i in range(0, 22)]\n",
    "LTV = pd.DataFrame({'Cohorts': list(range(1, 23)), 'LTV': sum_ltv})"
   ]
  },
  {
   "cell_type": "code",
   "execution_count": 269,
   "id": "american-imagination",
   "metadata": {},
   "outputs": [
    {
     "data": {
      "text/html": [
       "<div>\n",
       "<style scoped>\n",
       "    .dataframe tbody tr th:only-of-type {\n",
       "        vertical-align: middle;\n",
       "    }\n",
       "\n",
       "    .dataframe tbody tr th {\n",
       "        vertical-align: top;\n",
       "    }\n",
       "\n",
       "    .dataframe thead th {\n",
       "        text-align: right;\n",
       "    }\n",
       "</style>\n",
       "<table border=\"1\" class=\"dataframe\">\n",
       "  <thead>\n",
       "    <tr style=\"text-align: right;\">\n",
       "      <th></th>\n",
       "      <th>Cohorts</th>\n",
       "      <th>LTV</th>\n",
       "    </tr>\n",
       "  </thead>\n",
       "  <tbody>\n",
       "    <tr>\n",
       "      <th>0</th>\n",
       "      <td>1</td>\n",
       "      <td>18.936316</td>\n",
       "    </tr>\n",
       "    <tr>\n",
       "      <th>1</th>\n",
       "      <td>2</td>\n",
       "      <td>18.757638</td>\n",
       "    </tr>\n",
       "    <tr>\n",
       "      <th>2</th>\n",
       "      <td>3</td>\n",
       "      <td>18.970865</td>\n",
       "    </tr>\n",
       "  </tbody>\n",
       "</table>\n",
       "</div>"
      ],
      "text/plain": [
       "   Cohorts        LTV\n",
       "0        1  18.936316\n",
       "1        2  18.757638\n",
       "2        3  18.970865"
      ]
     },
     "execution_count": 269,
     "metadata": {},
     "output_type": "execute_result"
    }
   ],
   "source": [
    "LTV.head(3)"
   ]
  },
  {
   "cell_type": "markdown",
   "id": "indian-cedar",
   "metadata": {},
   "source": [
    "Пользователь, пользуясь приложением 2 года, принесёт компании __~19 $__."
   ]
  }
 ],
 "metadata": {
  "kernelspec": {
   "display_name": "Python 3",
   "language": "python",
   "name": "python3"
  },
  "language_info": {
   "codemirror_mode": {
    "name": "ipython",
    "version": 3
   },
   "file_extension": ".py",
   "mimetype": "text/x-python",
   "name": "python",
   "nbconvert_exporter": "python",
   "pygments_lexer": "ipython3",
   "version": "3.9.4"
  }
 },
 "nbformat": 4,
 "nbformat_minor": 5
}
